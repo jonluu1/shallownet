{
  "nbformat": 4,
  "nbformat_minor": 0,
  "metadata": {
    "colab": {
      "name": "ShallowNet.ipynb",
      "provenance": []
    },
    "kernelspec": {
      "name": "python3",
      "display_name": "Python 3"
    },
    "accelerator": "GPU"
  },
  "cells": [
    {
      "cell_type": "markdown",
      "metadata": {
        "id": "LmDI9NsWThuK",
        "colab_type": "text"
      },
      "source": [
        "# ShallowNet Implementation"
      ]
    },
    {
      "cell_type": "markdown",
      "metadata": {
        "id": "l28L6KhETyr2",
        "colab_type": "text"
      },
      "source": [
        "## ShallowNet Imports"
      ]
    },
    {
      "cell_type": "code",
      "metadata": {
        "id": "yPOzbm9xQ1oP",
        "colab_type": "code",
        "outputId": "f8958d04-b658-4214-c5a4-1fe08b8f6fc3",
        "colab": {
          "base_uri": "https://localhost:8080/",
          "height": 80
        }
      },
      "source": [
        "from keras.models import Sequential\n",
        "from keras.layers.convolutional import Conv2D\n",
        "from keras.layers.core import Activation\n",
        "from keras.layers.core import Flatten\n",
        "from keras.layers.core import Dense\n",
        "from keras import backend as K"
      ],
      "execution_count": 0,
      "outputs": [
        {
          "output_type": "stream",
          "text": [
            "Using TensorFlow backend.\n"
          ],
          "name": "stderr"
        },
        {
          "output_type": "display_data",
          "data": {
            "text/html": [
              "<p style=\"color: red;\">\n",
              "The default version of TensorFlow in Colab will soon switch to TensorFlow 2.x.<br>\n",
              "We recommend you <a href=\"https://www.tensorflow.org/guide/migrate\" target=\"_blank\">upgrade</a> now \n",
              "or ensure your notebook will continue to use TensorFlow 1.x via the <code>%tensorflow_version 1.x</code> magic:\n",
              "<a href=\"https://colab.research.google.com/notebooks/tensorflow_version.ipynb\" target=\"_blank\">more info</a>.</p>\n"
            ],
            "text/plain": [
              "<IPython.core.display.HTML object>"
            ]
          },
          "metadata": {
            "tags": []
          }
        }
      ]
    },
    {
      "cell_type": "markdown",
      "metadata": {
        "id": "ykDVyqo8UH7l",
        "colab_type": "text"
      },
      "source": [
        "## ShallowNet Network Creation"
      ]
    },
    {
      "cell_type": "code",
      "metadata": {
        "id": "w0Vp4Wv1T5-Q",
        "colab_type": "code",
        "colab": {}
      },
      "source": [
        "class ShallowNet:\n",
        "  def build(width, height, depth, classes):\n",
        "    model = Sequential()\n",
        "    inputShape = (height, width, depth)\n",
        "    if K.image_data_format() == \"channel_first\":\n",
        "      inputShape = (depth, height, width)\n",
        "      \n",
        "    model.add(Conv2D(32, (3, 3), padding = \"same\", \n",
        "                     input_shape = inputShape))\n",
        "    model.add(Activation(\"relu\"))\n",
        "    model.add(Flatten())\n",
        "    model.add(Dense(classes))\n",
        "    model.add(Activation(\"softmax\"))\n",
        "\n",
        "    return model"
      ],
      "execution_count": 0,
      "outputs": []
    },
    {
      "cell_type": "markdown",
      "metadata": {
        "id": "Xw-mz_y1Vmww",
        "colab_type": "text"
      },
      "source": [
        "# ShallowNet Training"
      ]
    },
    {
      "cell_type": "markdown",
      "metadata": {
        "id": "PsHjVRj3WxZ0",
        "colab_type": "text"
      },
      "source": [
        "## Training Imports"
      ]
    },
    {
      "cell_type": "code",
      "metadata": {
        "id": "gA-Jw7GBVU0c",
        "colab_type": "code",
        "colab": {}
      },
      "source": [
        "from sklearn.preprocessing import LabelBinarizer\n",
        "from sklearn.model_selection import train_test_split\n",
        "from sklearn.metrics import classification_report\n",
        "from keras.optimizers import SGD\n",
        "from keras.datasets import cifar10\n",
        "import matplotlib.pyplot as plt\n",
        "import numpy as np"
      ],
      "execution_count": 0,
      "outputs": []
    },
    {
      "cell_type": "markdown",
      "metadata": {
        "id": "PANWa5ZTW2LR",
        "colab_type": "text"
      },
      "source": [
        "## CIFAR-10 Data Download & Organization\n",
        "load the training and testing data, then normalize it into the range [0, 1]"
      ]
    },
    {
      "cell_type": "code",
      "metadata": {
        "id": "ZnB5cJ9IX9p9",
        "colab_type": "code",
        "outputId": "4abc85ad-febd-4000-ca6e-2bb35ecf6b09",
        "colab": {
          "base_uri": "https://localhost:8080/",
          "height": 102
        }
      },
      "source": [
        "print(\"[INFO] accessing CIFAR10...\\n\\n\")\n",
        "((trainX, trainY), (testX, testY)) = cifar10.load_data()\n",
        "trainX = trainX.astype(\"float\") / 255.0\n",
        "testX = testX.astype(\"float\") / 255.0"
      ],
      "execution_count": 0,
      "outputs": [
        {
          "output_type": "stream",
          "text": [
            "[INFO] accessing CIFAR10...\n",
            "\n",
            "\n",
            "Downloading data from https://www.cs.toronto.edu/~kriz/cifar-10-python.tar.gz\n",
            "170500096/170498071 [==============================] - 2s 0us/step\n"
          ],
          "name": "stdout"
        }
      ]
    },
    {
      "cell_type": "markdown",
      "metadata": {
        "id": "5genBfO8YIqJ",
        "colab_type": "text"
      },
      "source": [
        "### Labeling Data\n",
        "\n",
        "convert the labels from integers to vectors"
      ]
    },
    {
      "cell_type": "code",
      "metadata": {
        "id": "iSOAVpAfX-v7",
        "colab_type": "code",
        "colab": {}
      },
      "source": [
        "le = LabelBinarizer()\n",
        "trainY = le.fit_transform(trainY)\n",
        "testY = le.transform(testY)\n",
        "labelNames = [\"airplane\", \"automobile\", \"bird\", \"cat\", \"deer\", \"dog\", \"frog\", \"horse\", \"ship\", \"truck\"]"
      ],
      "execution_count": 0,
      "outputs": []
    },
    {
      "cell_type": "markdown",
      "metadata": {
        "id": "tkBo6ZF7aNbH",
        "colab_type": "text"
      },
      "source": [
        "### Model \n",
        "\n",
        "initialize the optimizer and model"
      ]
    },
    {
      "cell_type": "code",
      "metadata": {
        "id": "7NzTUljVaJdu",
        "colab_type": "code",
        "outputId": "ab813342-5999-478c-ad7f-d182a86cd08c",
        "colab": {
          "base_uri": "https://localhost:8080/",
          "height": 581
        }
      },
      "source": [
        "print(\"[INFO] compiling model...\\n\\n\")\n",
        "opt = SGD(lr = 0.01)\n",
        "model = ShallowNet.build(width=32, height=32, depth=3, classes=10)\n",
        "model.compile(loss=\"categorical_crossentropy\", optimizer=opt, metrics=[\"accuracy\"])\n",
        "print(model.summary())"
      ],
      "execution_count": 0,
      "outputs": [
        {
          "output_type": "stream",
          "text": [
            "[INFO] compiling model...\n",
            "\n",
            "\n",
            "WARNING:tensorflow:From /usr/local/lib/python3.6/dist-packages/keras/backend/tensorflow_backend.py:66: The name tf.get_default_graph is deprecated. Please use tf.compat.v1.get_default_graph instead.\n",
            "\n",
            "WARNING:tensorflow:From /usr/local/lib/python3.6/dist-packages/keras/backend/tensorflow_backend.py:541: The name tf.placeholder is deprecated. Please use tf.compat.v1.placeholder instead.\n",
            "\n",
            "WARNING:tensorflow:From /usr/local/lib/python3.6/dist-packages/keras/backend/tensorflow_backend.py:4432: The name tf.random_uniform is deprecated. Please use tf.random.uniform instead.\n",
            "\n",
            "WARNING:tensorflow:From /usr/local/lib/python3.6/dist-packages/keras/optimizers.py:793: The name tf.train.Optimizer is deprecated. Please use tf.compat.v1.train.Optimizer instead.\n",
            "\n",
            "WARNING:tensorflow:From /usr/local/lib/python3.6/dist-packages/keras/backend/tensorflow_backend.py:3576: The name tf.log is deprecated. Please use tf.math.log instead.\n",
            "\n",
            "Model: \"sequential_1\"\n",
            "_________________________________________________________________\n",
            "Layer (type)                 Output Shape              Param #   \n",
            "=================================================================\n",
            "conv2d_1 (Conv2D)            (None, 32, 32, 32)        896       \n",
            "_________________________________________________________________\n",
            "activation_1 (Activation)    (None, 32, 32, 32)        0         \n",
            "_________________________________________________________________\n",
            "flatten_1 (Flatten)          (None, 32768)             0         \n",
            "_________________________________________________________________\n",
            "dense_1 (Dense)              (None, 10)                327690    \n",
            "_________________________________________________________________\n",
            "activation_2 (Activation)    (None, 10)                0         \n",
            "=================================================================\n",
            "Total params: 328,586\n",
            "Trainable params: 328,586\n",
            "Non-trainable params: 0\n",
            "_________________________________________________________________\n",
            "None\n"
          ],
          "name": "stdout"
        }
      ]
    },
    {
      "cell_type": "markdown",
      "metadata": {
        "id": "iNLlJ0WZbAbJ",
        "colab_type": "text"
      },
      "source": [
        "## Training\n",
        "Training the model"
      ]
    },
    {
      "cell_type": "code",
      "metadata": {
        "id": "99h6NfDua0fi",
        "colab_type": "code",
        "outputId": "bd44ba53-9dff-4acb-d7a8-a6a939d9fa03",
        "colab": {
          "base_uri": "https://localhost:8080/",
          "height": 1000
        }
      },
      "source": [
        "print(\"[INFO] training network...\\n\\n\")\n",
        "H = model.fit(trainX, trainY, validation_data=(testX, testY), batch_size=32, epochs=40, verbose=1)"
      ],
      "execution_count": 0,
      "outputs": [
        {
          "output_type": "stream",
          "text": [
            "[INFO] training network...\n",
            "\n",
            "\n",
            "WARNING:tensorflow:From /usr/local/lib/python3.6/dist-packages/tensorflow_core/python/ops/math_grad.py:1424: where (from tensorflow.python.ops.array_ops) is deprecated and will be removed in a future version.\n",
            "Instructions for updating:\n",
            "Use tf.where in 2.0, which has the same broadcast rule as np.where\n",
            "WARNING:tensorflow:From /usr/local/lib/python3.6/dist-packages/keras/backend/tensorflow_backend.py:1033: The name tf.assign_add is deprecated. Please use tf.compat.v1.assign_add instead.\n",
            "\n",
            "WARNING:tensorflow:From /usr/local/lib/python3.6/dist-packages/keras/backend/tensorflow_backend.py:1020: The name tf.assign is deprecated. Please use tf.compat.v1.assign instead.\n",
            "\n",
            "WARNING:tensorflow:From /usr/local/lib/python3.6/dist-packages/keras/backend/tensorflow_backend.py:3005: The name tf.Session is deprecated. Please use tf.compat.v1.Session instead.\n",
            "\n",
            "Train on 50000 samples, validate on 10000 samples\n",
            "Epoch 1/40\n",
            "WARNING:tensorflow:From /usr/local/lib/python3.6/dist-packages/keras/backend/tensorflow_backend.py:190: The name tf.get_default_session is deprecated. Please use tf.compat.v1.get_default_session instead.\n",
            "\n",
            "WARNING:tensorflow:From /usr/local/lib/python3.6/dist-packages/keras/backend/tensorflow_backend.py:197: The name tf.ConfigProto is deprecated. Please use tf.compat.v1.ConfigProto instead.\n",
            "\n",
            "WARNING:tensorflow:From /usr/local/lib/python3.6/dist-packages/keras/backend/tensorflow_backend.py:207: The name tf.global_variables is deprecated. Please use tf.compat.v1.global_variables instead.\n",
            "\n",
            "WARNING:tensorflow:From /usr/local/lib/python3.6/dist-packages/keras/backend/tensorflow_backend.py:216: The name tf.is_variable_initialized is deprecated. Please use tf.compat.v1.is_variable_initialized instead.\n",
            "\n",
            "WARNING:tensorflow:From /usr/local/lib/python3.6/dist-packages/keras/backend/tensorflow_backend.py:223: The name tf.variables_initializer is deprecated. Please use tf.compat.v1.variables_initializer instead.\n",
            "\n",
            "50000/50000 [==============================] - 13s 266us/step - loss: 1.8235 - acc: 0.3605 - val_loss: 1.6986 - val_acc: 0.4018\n",
            "Epoch 2/40\n",
            "50000/50000 [==============================] - 7s 131us/step - loss: 1.5672 - acc: 0.4574 - val_loss: 1.5833 - val_acc: 0.4322\n",
            "Epoch 3/40\n",
            "50000/50000 [==============================] - 6s 130us/step - loss: 1.4037 - acc: 0.5094 - val_loss: 1.3730 - val_acc: 0.5143\n",
            "Epoch 4/40\n",
            "50000/50000 [==============================] - 7s 131us/step - loss: 1.3144 - acc: 0.5392 - val_loss: 1.3497 - val_acc: 0.5210\n",
            "Epoch 5/40\n",
            "50000/50000 [==============================] - 7s 132us/step - loss: 1.2630 - acc: 0.5585 - val_loss: 1.2930 - val_acc: 0.5396\n",
            "Epoch 6/40\n",
            "50000/50000 [==============================] - 6s 129us/step - loss: 1.2255 - acc: 0.5718 - val_loss: 1.2980 - val_acc: 0.5407\n",
            "Epoch 7/40\n",
            "50000/50000 [==============================] - 6s 127us/step - loss: 1.1938 - acc: 0.5829 - val_loss: 1.3343 - val_acc: 0.5165\n",
            "Epoch 8/40\n",
            "50000/50000 [==============================] - 7s 131us/step - loss: 1.1692 - acc: 0.5923 - val_loss: 1.3064 - val_acc: 0.5301\n",
            "Epoch 9/40\n",
            "50000/50000 [==============================] - 6s 130us/step - loss: 1.1428 - acc: 0.6033 - val_loss: 1.2452 - val_acc: 0.5534\n",
            "Epoch 10/40\n",
            "50000/50000 [==============================] - 6s 129us/step - loss: 1.1220 - acc: 0.6075 - val_loss: 1.2753 - val_acc: 0.5398\n",
            "Epoch 11/40\n",
            "50000/50000 [==============================] - 6s 128us/step - loss: 1.1009 - acc: 0.6155 - val_loss: 1.2690 - val_acc: 0.5541\n",
            "Epoch 12/40\n",
            "50000/50000 [==============================] - 6s 128us/step - loss: 1.0781 - acc: 0.6238 - val_loss: 1.2707 - val_acc: 0.5609\n",
            "Epoch 13/40\n",
            "50000/50000 [==============================] - 6s 129us/step - loss: 1.0558 - acc: 0.6320 - val_loss: 1.2088 - val_acc: 0.5774\n",
            "Epoch 14/40\n",
            "50000/50000 [==============================] - 7s 130us/step - loss: 1.0375 - acc: 0.6379 - val_loss: 1.2133 - val_acc: 0.5732\n",
            "Epoch 15/40\n",
            "50000/50000 [==============================] - 6s 128us/step - loss: 1.0197 - acc: 0.6457 - val_loss: 1.2536 - val_acc: 0.5590\n",
            "Epoch 16/40\n",
            "50000/50000 [==============================] - 6s 129us/step - loss: 1.0031 - acc: 0.6517 - val_loss: 1.2110 - val_acc: 0.5722\n",
            "Epoch 17/40\n",
            "50000/50000 [==============================] - 7s 130us/step - loss: 0.9863 - acc: 0.6593 - val_loss: 1.2361 - val_acc: 0.5696\n",
            "Epoch 18/40\n",
            "50000/50000 [==============================] - 6s 127us/step - loss: 0.9704 - acc: 0.6641 - val_loss: 1.2078 - val_acc: 0.5786\n",
            "Epoch 19/40\n",
            "50000/50000 [==============================] - 6s 127us/step - loss: 0.9534 - acc: 0.6684 - val_loss: 1.1947 - val_acc: 0.5900\n",
            "Epoch 20/40\n",
            "50000/50000 [==============================] - 6s 129us/step - loss: 0.9378 - acc: 0.6753 - val_loss: 1.2094 - val_acc: 0.5788\n",
            "Epoch 21/40\n",
            "50000/50000 [==============================] - 6s 127us/step - loss: 0.9234 - acc: 0.6817 - val_loss: 1.2168 - val_acc: 0.5740\n",
            "Epoch 22/40\n",
            "50000/50000 [==============================] - 6s 127us/step - loss: 0.9073 - acc: 0.6862 - val_loss: 1.1938 - val_acc: 0.5883\n",
            "Epoch 23/40\n",
            "50000/50000 [==============================] - 6s 127us/step - loss: 0.8946 - acc: 0.6920 - val_loss: 1.2161 - val_acc: 0.5853\n",
            "Epoch 24/40\n",
            "50000/50000 [==============================] - 6s 129us/step - loss: 0.8814 - acc: 0.6949 - val_loss: 1.2281 - val_acc: 0.5804\n",
            "Epoch 25/40\n",
            "50000/50000 [==============================] - 6s 128us/step - loss: 0.8674 - acc: 0.7009 - val_loss: 1.2507 - val_acc: 0.5766\n",
            "Epoch 26/40\n",
            "50000/50000 [==============================] - 6s 127us/step - loss: 0.8528 - acc: 0.7050 - val_loss: 1.2451 - val_acc: 0.5788\n",
            "Epoch 27/40\n",
            "50000/50000 [==============================] - 6s 127us/step - loss: 0.8400 - acc: 0.7117 - val_loss: 1.2405 - val_acc: 0.5727\n",
            "Epoch 28/40\n",
            "50000/50000 [==============================] - 6s 127us/step - loss: 0.8264 - acc: 0.7156 - val_loss: 1.2356 - val_acc: 0.5783\n",
            "Epoch 29/40\n",
            "50000/50000 [==============================] - 6s 129us/step - loss: 0.8123 - acc: 0.7216 - val_loss: 1.2418 - val_acc: 0.5820\n",
            "Epoch 30/40\n",
            "50000/50000 [==============================] - 6s 127us/step - loss: 0.7987 - acc: 0.7249 - val_loss: 1.1941 - val_acc: 0.5931\n",
            "Epoch 31/40\n",
            "50000/50000 [==============================] - 6s 129us/step - loss: 0.7858 - acc: 0.7293 - val_loss: 1.2278 - val_acc: 0.5898\n",
            "Epoch 32/40\n",
            "50000/50000 [==============================] - 6s 127us/step - loss: 0.7728 - acc: 0.7360 - val_loss: 1.2345 - val_acc: 0.5850\n",
            "Epoch 33/40\n",
            "50000/50000 [==============================] - 7s 130us/step - loss: 0.7613 - acc: 0.7391 - val_loss: 1.1953 - val_acc: 0.5986\n",
            "Epoch 34/40\n",
            "50000/50000 [==============================] - 7s 132us/step - loss: 0.7511 - acc: 0.7407 - val_loss: 1.3201 - val_acc: 0.5649\n",
            "Epoch 35/40\n",
            "50000/50000 [==============================] - 7s 131us/step - loss: 0.7398 - acc: 0.7452 - val_loss: 1.2637 - val_acc: 0.5751\n",
            "Epoch 36/40\n",
            "50000/50000 [==============================] - 6s 128us/step - loss: 0.7259 - acc: 0.7519 - val_loss: 1.2881 - val_acc: 0.5745\n",
            "Epoch 37/40\n",
            "50000/50000 [==============================] - 6s 128us/step - loss: 0.7140 - acc: 0.7550 - val_loss: 1.2619 - val_acc: 0.5828\n",
            "Epoch 38/40\n",
            "50000/50000 [==============================] - 6s 126us/step - loss: 0.7013 - acc: 0.7590 - val_loss: 1.2534 - val_acc: 0.5884\n",
            "Epoch 39/40\n",
            "50000/50000 [==============================] - 6s 129us/step - loss: 0.6923 - acc: 0.7644 - val_loss: 1.2549 - val_acc: 0.5878\n",
            "Epoch 40/40\n",
            "50000/50000 [==============================] - 6s 129us/step - loss: 0.6796 - acc: 0.7681 - val_loss: 1.2402 - val_acc: 0.5904\n"
          ],
          "name": "stdout"
        }
      ]
    },
    {
      "cell_type": "markdown",
      "metadata": {
        "id": "1gWDz1G-bbvn",
        "colab_type": "text"
      },
      "source": [
        "### Evaluation\n",
        "\n",
        "evaluate the network"
      ]
    },
    {
      "cell_type": "code",
      "metadata": {
        "id": "7L_XHP6AbDj8",
        "colab_type": "code",
        "outputId": "52964332-102e-4096-ff3f-c9f8baafd765",
        "colab": {
          "base_uri": "https://localhost:8080/",
          "height": 357
        }
      },
      "source": [
        "print(\"[INFO] evaluating network...\\n\\n\")\n",
        "predictions = model.predict(testX, batch_size=32)\n",
        "print(classification_report(testY.argmax(axis=1), predictions.argmax(axis=1), \n",
        "                            target_names=labelNames))"
      ],
      "execution_count": 0,
      "outputs": [
        {
          "output_type": "stream",
          "text": [
            "[INFO] evaluating network...\n",
            "\n",
            "\n",
            "              precision    recall  f1-score   support\n",
            "\n",
            "    airplane       0.67      0.60      0.64      1000\n",
            "  automobile       0.64      0.80      0.72      1000\n",
            "        bird       0.44      0.49      0.46      1000\n",
            "         cat       0.41      0.45      0.43      1000\n",
            "        deer       0.56      0.45      0.50      1000\n",
            "         dog       0.59      0.38      0.46      1000\n",
            "        frog       0.52      0.81      0.64      1000\n",
            "       horse       0.70      0.66      0.68      1000\n",
            "        ship       0.71      0.74      0.73      1000\n",
            "       truck       0.75      0.53      0.62      1000\n",
            "\n",
            "    accuracy                           0.59     10000\n",
            "   macro avg       0.60      0.59      0.59     10000\n",
            "weighted avg       0.60      0.59      0.59     10000\n",
            "\n"
          ],
          "name": "stdout"
        }
      ]
    },
    {
      "cell_type": "code",
      "metadata": {
        "id": "YyjkuuNrboMY",
        "colab_type": "code",
        "outputId": "70779ae2-20e9-4fce-b63d-2799c2a1deca",
        "colab": {
          "base_uri": "https://localhost:8080/",
          "height": 299
        }
      },
      "source": [
        "plt.style.use(\"ggplot\")\n",
        "plt.figure()\n",
        "plt.plot(np.arange(0, 40), H.history[\"loss\"], label=\"train_loss\")\n",
        "plt.plot(np.arange(0, 40), H.history[\"val_loss\"], label=\"val_loss\")\n",
        "plt.plot(np.arange(0, 40), H.history[\"acc\"], label=\"train_acc\")\n",
        "plt.plot(np.arange(0, 40), H.history[\"val_acc\"], label=\"val_acc\")\n",
        "plt.title(\"Training Loss and Accuracy\")\n",
        "plt.xlabel(\"Epoch #\")\n",
        "plt.ylabel(\"Loss/Accuracy\")\n",
        "plt.legend()\n",
        "plt.show()"
      ],
      "execution_count": 0,
      "outputs": [
        {
          "output_type": "display_data",
          "data": {
            "image/png": "[encoded data removed]",
            "text/plain": [
              "<Figure size 432x288 with 1 Axes>"
            ]
          },
          "metadata": {
            "tags": []
          }
        }
      ]
    },
    {
      "cell_type": "code",
      "metadata": {
        "id": "1F9xn4ivbpEZ",
        "colab_type": "code",
        "colab": {}
      },
      "source": [
        ""
      ],
      "execution_count": 0,
      "outputs": []
    }
  ]
}